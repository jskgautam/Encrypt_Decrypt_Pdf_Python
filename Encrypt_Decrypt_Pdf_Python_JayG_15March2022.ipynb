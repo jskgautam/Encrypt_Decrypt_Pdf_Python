{
 "cells": [
  {
   "cell_type": "markdown",
   "metadata": {},
   "source": [
    "### Encrypt and Decrypt the pdf file using Python\n",
    "<b> Author: Jay Gautam, Darmstadt Germany. \\\n",
    "<b> => Download code and related pdf from Github."
   ]
  },
  {
   "cell_type": "code",
   "execution_count": 6,
   "metadata": {
    "scrolled": true
   },
   "outputs": [
    {
     "name": "stdout",
     "output_type": "stream",
     "text": [
      "Requirement already satisfied: PyPDF2 in c:\\programdata\\anaconda3\\lib\\site-packages (1.26.0)\n",
      "Note: you may need to restart the kernel to use updated packages.\n"
     ]
    }
   ],
   "source": [
    "pip install PyPDF2"
   ]
  },
  {
   "cell_type": "code",
   "execution_count": 7,
   "metadata": {},
   "outputs": [],
   "source": [
    "# Encrypt the file"
   ]
  },
  {
   "cell_type": "code",
   "execution_count": 14,
   "metadata": {},
   "outputs": [
    {
     "name": "stdout",
     "output_type": "stream",
     "text": [
      "Please enter password to encrypt the pdf: Password123\n",
      "Encryption finished- file is saved to the drive!\n"
     ]
    }
   ],
   "source": [
    "from PyPDF2 import PdfFileWriter, PdfFileReader  \n",
    "\n",
    "# read the pdf file and counts the total number of pages.\n",
    "file = PdfFileReader(\"pythonlearn.pdf\") # You may specify the Name of pdf here.\n",
    "total_page = file.numPages # Count the number of pages in the pdf file\n",
    "\n",
    "out = PdfFileWriter() # Write the file to a new file uisng object \"out\"  \n",
    "for page_i in range(total_page): # go through every page of pdf and add to new file.     \n",
    "    page_data = file.getPage(page_i) # The data of the page   \n",
    "    out.addPage(page_data) # Add it to the new file\n",
    "\n",
    "password = input(\"Please enter password to encrypt the pdf: \")# Write your password to encrypt the pdf\n",
    "out.encrypt(password) # It will encrpy the pdf with given password.\n",
    "  \n",
    "# Encrypted pdf will be saved with file name \"encrypted_pdf.pdf\"\n",
    "with open(\"encrypted_file.pdf\", \"wb\") as f:    \n",
    "    out.write(f) # Ceation of encrypted file.\n",
    "print(\"Encryption finished- file is saved to the drive!\")"
   ]
  },
  {
   "cell_type": "code",
   "execution_count": 9,
   "metadata": {},
   "outputs": [],
   "source": [
    "# Decrypt the file (You need exact same pdf used for encryption of above file)"
   ]
  },
  {
   "cell_type": "code",
   "execution_count": 15,
   "metadata": {},
   "outputs": [
    {
     "name": "stdout",
     "output_type": "stream",
     "text": [
      "Please enter password of the encrypted pdf: Password123\n",
      "Decryption finished- file is saved to the drive!\n"
     ]
    }
   ],
   "source": [
    "from PyPDF2 import PdfFileWriter, PdfFileReader\n",
    "  \n",
    "out = PdfFileWriter()  \n",
    "file = PdfFileReader(\"encrypted_file.pdf\") # Read the encrypted file.  \n",
    "password = input(\"Please enter password of the encrypted pdf: \")\n",
    "\n",
    "if file.isEncrypted: # Check the pdf whether encrypted or not.    \n",
    "    file.decrypt(password) # If encrypted, decrypt it with the same password\n",
    "    \n",
    "    for page_i in range(file.numPages): # Create new file after decrypt\n",
    "        page_data = file.getPage(page_i) # The data of the page\n",
    "        out.addPage(page_data) # Add it to the new file\n",
    "      \n",
    "    with open(\"decrypted_file.pdf\", \"wb\") as f: # Open the \"Decrypted_file.pdf\"       \n",
    "        out.write(f) # Ceation of Decrypted file.\n",
    "  \n",
    "    # Print success message when Done\n",
    "    print(\"Decryption finished- file is saved to the drive!\")\n",
    "    \n",
    "else:\n",
    "    print(\"Either file was not encrypted or was decrypted.\") # If file is decrypted or not encrypted"
   ]
  },
  {
   "cell_type": "code",
   "execution_count": null,
   "metadata": {},
   "outputs": [],
   "source": []
  }
 ],
 "metadata": {
  "kernelspec": {
   "display_name": "Python 3",
   "language": "python",
   "name": "python3"
  },
  "language_info": {
   "codemirror_mode": {
    "name": "ipython",
    "version": 3
   },
   "file_extension": ".py",
   "mimetype": "text/x-python",
   "name": "python",
   "nbconvert_exporter": "python",
   "pygments_lexer": "ipython3",
   "version": "3.8.3"
  },
  "toc": {
   "base_numbering": 1,
   "nav_menu": {},
   "number_sections": true,
   "sideBar": true,
   "skip_h1_title": false,
   "title_cell": "Table of Contents",
   "title_sidebar": "Contents",
   "toc_cell": false,
   "toc_position": {},
   "toc_section_display": true,
   "toc_window_display": false
  }
 },
 "nbformat": 4,
 "nbformat_minor": 4
}
